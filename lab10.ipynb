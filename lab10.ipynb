{
  "nbformat": 4,
  "nbformat_minor": 0,
  "metadata": {
    "colab": {
      "provenance": []
    },
    "kernelspec": {
      "name": "python3",
      "display_name": "Python 3"
    },
    "language_info": {
      "name": "python"
    }
  },
  "cells": [
    {
      "cell_type": "code",
      "execution_count": 4,
      "metadata": {
        "colab": {
          "base_uri": "https://localhost:8080/"
        },
        "id": "jXa5p---EEzV",
        "outputId": "7069cc84-b424-4d23-906b-27b0b0b887f3"
      },
      "outputs": [
        {
          "output_type": "stream",
          "name": "stdout",
          "text": [
            "              ID  Estimated_Insects_Count  Crop_Type  Soil_Type  \\\n",
            "0      F00000001                      188          1          0   \n",
            "1      F00000003                      209          1          0   \n",
            "2      F00000004                      257          1          0   \n",
            "3      F00000005                      257          1          1   \n",
            "4      F00000006                      342          1          0   \n",
            "...          ...                      ...        ...        ...   \n",
            "88853  F00155935                     3337          1          0   \n",
            "88854  F00155938                     3516          1          0   \n",
            "88855  F00155939                     3516          1          0   \n",
            "88856  F00155942                     3702          1          0   \n",
            "88857  F00155945                     3895          1          0   \n",
            "\n",
            "       Pesticide_Use_Category  Number_Doses_Week  Number_Weeks_Used  \\\n",
            "0                           1                  0                0.0   \n",
            "1                           1                  0                0.0   \n",
            "2                           1                  0                0.0   \n",
            "3                           1                  0                0.0   \n",
            "4                           1                  0                0.0   \n",
            "...                       ...                ...                ...   \n",
            "88853                       2                 10               12.0   \n",
            "88854                       2                 10               20.0   \n",
            "88855                       2                 15               40.0   \n",
            "88856                       2                 10               25.0   \n",
            "88857                       2                 20               37.0   \n",
            "\n",
            "       Number_Weeks_Quit  Season  Crop_Damage  \n",
            "0                      0       1            0  \n",
            "1                      0       2            1  \n",
            "2                      0       2            1  \n",
            "3                      0       2            1  \n",
            "4                      0       2            1  \n",
            "...                  ...     ...          ...  \n",
            "88853                 44       3            0  \n",
            "88854                 38       1            0  \n",
            "88855                  8       2            0  \n",
            "88856                 18       3            0  \n",
            "88857                  7       3            0  \n",
            "\n",
            "[88858 rows x 10 columns]\n"
          ]
        }
      ],
      "source": [
        "import pandas as pd\n",
        "train_data=pd.read_csv(\"/content/train-1.csv\")\n",
        "test_data=pd.read_csv(\"/content/test (1).csv\")\n",
        "print(train_data)\n"
      ]
    },
    {
      "cell_type": "code",
      "source": [
        "train_data=train_data.dropna()\n",
        "train_data=train_data.dropna(axis=1)\n",
        "print(train_data)\n",
        "#test_data=test_data.dropna()\n",
        "#test_data=test_data.dropna(axis=1)\n",
        "#print(test_data)"
      ],
      "metadata": {
        "colab": {
          "base_uri": "https://localhost:8080/"
        },
        "id": "Wo5vKeEpFd1K",
        "outputId": "1f60595a-d279-434a-850f-e934978b5728"
      },
      "execution_count": 5,
      "outputs": [
        {
          "output_type": "stream",
          "name": "stdout",
          "text": [
            "              ID  Estimated_Insects_Count  Crop_Type  Soil_Type  \\\n",
            "0      F00000001                      188          1          0   \n",
            "1      F00000003                      209          1          0   \n",
            "2      F00000004                      257          1          0   \n",
            "3      F00000005                      257          1          1   \n",
            "4      F00000006                      342          1          0   \n",
            "...          ...                      ...        ...        ...   \n",
            "88853  F00155935                     3337          1          0   \n",
            "88854  F00155938                     3516          1          0   \n",
            "88855  F00155939                     3516          1          0   \n",
            "88856  F00155942                     3702          1          0   \n",
            "88857  F00155945                     3895          1          0   \n",
            "\n",
            "       Pesticide_Use_Category  Number_Doses_Week  Number_Weeks_Used  \\\n",
            "0                           1                  0                0.0   \n",
            "1                           1                  0                0.0   \n",
            "2                           1                  0                0.0   \n",
            "3                           1                  0                0.0   \n",
            "4                           1                  0                0.0   \n",
            "...                       ...                ...                ...   \n",
            "88853                       2                 10               12.0   \n",
            "88854                       2                 10               20.0   \n",
            "88855                       2                 15               40.0   \n",
            "88856                       2                 10               25.0   \n",
            "88857                       2                 20               37.0   \n",
            "\n",
            "       Number_Weeks_Quit  Season  Crop_Damage  \n",
            "0                      0       1            0  \n",
            "1                      0       2            1  \n",
            "2                      0       2            1  \n",
            "3                      0       2            1  \n",
            "4                      0       2            1  \n",
            "...                  ...     ...          ...  \n",
            "88853                 44       3            0  \n",
            "88854                 38       1            0  \n",
            "88855                  8       2            0  \n",
            "88856                 18       3            0  \n",
            "88857                  7       3            0  \n",
            "\n",
            "[79858 rows x 10 columns]\n"
          ]
        }
      ]
    },
    {
      "cell_type": "code",
      "source": [
        "train_data=train_data.drop(columns=[\"ID\"],axis=1)\n",
        "#test_data=test_data.drop(columns=[\"ID\"],axis=1)"
      ],
      "metadata": {
        "id": "ZDFRyH9OSTLD"
      },
      "execution_count": 6,
      "outputs": []
    },
    {
      "cell_type": "code",
      "source": [
        "features=train_data.drop(columns=[\"Crop_Damage\"])\n",
        "target=train_data[\"Crop_Damage\"]\n",
        "print(target)"
      ],
      "metadata": {
        "colab": {
          "base_uri": "https://localhost:8080/"
        },
        "id": "YJaqJtejSZmb",
        "outputId": "83736e46-94e1-41b7-8031-ab639e6669d3"
      },
      "execution_count": 7,
      "outputs": [
        {
          "output_type": "stream",
          "name": "stdout",
          "text": [
            "0        0\n",
            "1        1\n",
            "2        1\n",
            "3        1\n",
            "4        1\n",
            "        ..\n",
            "88853    0\n",
            "88854    0\n",
            "88855    0\n",
            "88856    0\n",
            "88857    0\n",
            "Name: Crop_Damage, Length: 79858, dtype: int64\n"
          ]
        }
      ]
    },
    {
      "cell_type": "code",
      "source": [
        "from sklearn.linear_model import LogisticRegression\n",
        "from sklearn.metrics import accuracy_score\n",
        "\n",
        "x_train=train_data.drop(\"Crop_Damage\",axis=1)\n",
        "y_train=train_data[\"Crop_Damage\"]\n",
        "\n",
        "#x_test=test_data.drop(\"Estimated_Insects_Count\",axis=1)\n",
        "#y_test=test_data[\"Estimated_Insects_Count\"]\n",
        "\n",
        "model=LogisticRegression()\n",
        "model.fit(x_train,y_train)\n",
        "\n",
        "y_pred=model.predict(x_train)\n",
        "accuracy=accuracy_score(y_train,y_pred)\n",
        "\n",
        "print(\"Accuracy:\",accuracy*100)"
      ],
      "metadata": {
        "colab": {
          "base_uri": "https://localhost:8080/"
        },
        "id": "14obwXbySd0N",
        "outputId": "dcdb216a-4094-49a8-ae2d-0458fd8469a5"
      },
      "execution_count": 9,
      "outputs": [
        {
          "output_type": "stream",
          "name": "stdout",
          "text": [
            "Accuracy: 83.51198377119387\n"
          ]
        },
        {
          "output_type": "stream",
          "name": "stderr",
          "text": [
            "/usr/local/lib/python3.10/dist-packages/sklearn/linear_model/_logistic.py:458: ConvergenceWarning: lbfgs failed to converge (status=1):\n",
            "STOP: TOTAL NO. of ITERATIONS REACHED LIMIT.\n",
            "\n",
            "Increase the number of iterations (max_iter) or scale the data as shown in:\n",
            "    https://scikit-learn.org/stable/modules/preprocessing.html\n",
            "Please also refer to the documentation for alternative solver options:\n",
            "    https://scikit-learn.org/stable/modules/linear_model.html#logistic-regression\n",
            "  n_iter_i = _check_optimize_result(\n"
          ]
        }
      ]
    }
  ]
}